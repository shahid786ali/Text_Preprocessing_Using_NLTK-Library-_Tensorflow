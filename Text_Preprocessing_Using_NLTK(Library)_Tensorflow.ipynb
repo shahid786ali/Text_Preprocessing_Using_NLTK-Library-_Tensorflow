{
 "cells": [
  {
   "cell_type": "markdown",
   "metadata": {
    "id": "Qa8x0dIl2JES"
   },
   "source": [
    "# **Text Preprocessing for NLP**\n",
    "In this lab we will learn how to preprocess raw text data and make it suitable for further processing by DL models. We will perform this processing in two ways.\n",
    "1. Using NLTK Library\n",
    "2. Using Tensorflow\n",
    "First, let's see how we can preprocess raw text data using NLTK.\n",
    "\n",
    "Import NLTK library and download relevant modules."
   ]
  },
  {
   "cell_type": "markdown",
   "metadata": {},
   "source": [
    "# Text preprocessing using NLTK Library"
   ]
  },
  {
   "cell_type": "code",
   "execution_count": 1,
   "metadata": {
    "colab": {
     "base_uri": "https://localhost:8080/"
    },
    "id": "hwqbPqbOn0dO",
    "outputId": "6903c5bd-8291-4c4e-db4b-3ea4bf48ff37"
   },
   "outputs": [
    {
     "name": "stderr",
     "output_type": "stream",
     "text": [
      "[nltk_data] Downloading package stopwords to /root/nltk_data...\n",
      "[nltk_data]   Unzipping corpora/stopwords.zip.\n",
      "[nltk_data] Downloading package punkt to /root/nltk_data...\n",
      "[nltk_data]   Unzipping tokenizers/punkt.zip.\n",
      "[nltk_data] Downloading package averaged_perceptron_tagger to\n",
      "[nltk_data]     /root/nltk_data...\n",
      "[nltk_data]   Unzipping taggers/averaged_perceptron_tagger.zip.\n",
      "[nltk_data] Downloading package maxent_ne_chunker to\n",
      "[nltk_data]     /root/nltk_data...\n",
      "[nltk_data]   Unzipping chunkers/maxent_ne_chunker.zip.\n",
      "[nltk_data] Downloading package words to /root/nltk_data...\n",
      "[nltk_data]   Unzipping corpora/words.zip.\n"
     ]
    }
   ],
   "source": [
    "import os\n",
    "import random\n",
    "import nltk    #Natural Language Toolkit\n",
    "nltk.download('stopwords')  # download list of stop word(and, the, is, etc) which are meaning less\n",
    "nltk.download('punkt')      # download data for tokenization of NLtk\n",
    "nltk.download('averaged_perceptron_tagger')     # part of Speech tagging(Grameritical part of speech, none, verbs, adverbs)\n",
    "nltk.download('maxent_ne_chunker')              # Download name entity (name of places, person, etc)\n",
    "nltk.download('words')    # Download nltk's list of english words\n",
    "random.seed(92)       # Random 92 sentense"
   ]
  },
  {
   "cell_type": "markdown",
   "metadata": {
    "id": "0VBcykaE27VX"
   },
   "source": [
    "Let's define a corpus of raw text. For this example the following text is taken from wikipedia page on NLP (https://en.wikipedia.org/wiki/Natural_language_processing).\n",
    "You will notice that the text contains words, numbers, punctuations, and other special characters. This is RAW form of text. For different NLP tasks, it is required to preprocess this data to make it more structures and workable."
   ]
  },
  {
   "cell_type": "code",
   "execution_count": 3,
   "metadata": {
    "id": "q1Hk9thOoo9z"
   },
   "outputs": [],
   "source": [
    "corpus = str([\"\"\"In 2003, word n-gram model, at the time the best statistical algorithm, was overperformed by a multi-layer perceptron (with a single hidden layer and context length of several words trained on up to 14 million of words with a CPU cluster in language modelling) by Yoshua Bengio with co-authors.[8]\n",
    "In 2010, Tomáš Mikolov (then a PhD student at Brno University of Technology) with co-authors applied a simple recurrent neural network with a single hidden layer to language modelling,[9] and in the following years he went on to develop Word2vec.\n",
    "In the 2010s, representation learning and deep neural network-style (featuring many hidden layers) machine learning methods became widespread in natural language processing.\n",
    "That popularity was due partly to a flurry of results showing that such techniques[10][11] can achieve state-of-the-art results in many natural language tasks, e.g., in language modeling[12] and parsing.[13][14]\n",
    "This is increasingly important in medicine and healthcare, where NLP helps analyze notes and text in electronic health records that would otherwise be inaccessible for study when seeking to improve care[15] or protect patient privacy.[16]\"\"\"])"
   ]
  },
  {
   "cell_type": "markdown",
   "metadata": {
    "id": "Nsqvjw614EkK"
   },
   "source": [
    "**Tokenization**\n",
    "Tokenization means dividing a piece of raw text into semantically and syntactically meaningful units, called tokens. These tokens can be at setence-level (sentence tokens) or at the word-level (word tokens). At word level, NLTK recognises each word seperated by white-space, number, and punctuations as distinct tokens.\n",
    "\n",
    "The following code passes the raw text (corpus) to the sent_tokenize() method which converts the text into sentences. Each sentence is then further tokenized into smaller units using word_tokenize() method.\n",
    "\n",
    "pos_tag() method and ne_chunk() methods perform Part-Of-Speech tagging and Named-Entity Recognition, respectively. The POS tagging is a task in which each word is tagged with a part-of-speech category. For example, the word 'horse' is tagged as a noun and 'walk' is tagged as a verb. A Named-Entity is a word (or a set of words) that represent name of a person, place, organisation, unit of measurement, etc."
   ]
  },
  {
   "cell_type": "code",
   "execution_count": 4,
   "metadata": {
    "colab": {
     "base_uri": "https://localhost:8080/"
    },
    "id": "bUj2pksvo4ul",
    "outputId": "c38fac89-f1a7-4812-b4b8-3674cff261f7"
   },
   "outputs": [
    {
     "name": "stdout",
     "output_type": "stream",
     "text": [
      "['[', \"'In\", '2003', ',', 'word', 'n-gram', 'model', ',', 'at', 'the', 'time', 'the', 'best', 'statistical', 'algorithm', ',', 'was', 'overperformed', 'by', 'a', 'multi-layer', 'perceptron', '(', 'with', 'a', 'single', 'hidden', 'layer', 'and', 'context', 'length', 'of', 'several', 'words', 'trained', 'on', 'up', 'to', '14', 'million', 'of', 'words', 'with', 'a', 'CPU', 'cluster', 'in', 'language', 'modelling', ')', 'by', 'Yoshua', 'Bengio', 'with', 'co-authors', '.', '[', '8', ']', '\\\\nIn', '2010', ',', 'Tomáš', 'Mikolov', '(', 'then', 'a', 'PhD', 'student', 'at', 'Brno', 'University', 'of', 'Technology', ')', 'with', 'co-authors', 'applied', 'a', 'simple', 'recurrent', 'neural', 'network', 'with', 'a', 'single', 'hidden', 'layer', 'to', 'language', 'modelling', ',', '[', '9', ']', 'and', 'in', 'the', 'following', 'years', 'he', 'went', 'on', 'to', 'develop', 'Word2vec.\\\\nIn', 'the', '2010s', ',', 'representation', 'learning', 'and', 'deep', 'neural', 'network-style', '(', 'featuring', 'many', 'hidden', 'layers', ')', 'machine', 'learning', 'methods', 'became', 'widespread', 'in', 'natural', 'language', 'processing.\\\\nThat', 'popularity', 'was', 'due', 'partly', 'to', 'a', 'flurry', 'of', 'results', 'showing', 'that', 'such', 'techniques', '[', '10', ']', '[', '11', ']', 'can', 'achieve', 'state-of-the-art', 'results', 'in', 'many', 'natural', 'language', 'tasks', ',', 'e.g.', ',', 'in', 'language', 'modeling', '[', '12', ']', 'and', 'parsing', '.', '[', '13', ']', '[', '14', ']', '\\\\nThis', 'is', 'increasingly', 'important', 'in', 'medicine', 'and', 'healthcare', ',', 'where', 'NLP', 'helps', 'analyze', 'notes', 'and', 'text', 'in', 'electronic', 'health', 'records', 'that', 'would', 'otherwise', 'be', 'inaccessible', 'for', 'study', 'when', 'seeking', 'to', 'improve', 'care', '[', '15', ']', 'or', 'protect', 'patient', 'privacy', '.', '[', '16', ']', \"'\", ']']\n",
      "\n",
      "Length of word_list: 221\n"
     ]
    }
   ],
   "source": [
    "token_list = []\n",
    "sentences = nltk.sent_tokenize(str(corpus))\n",
    "for sentence in sentences:\n",
    "  words = nltk.word_tokenize(sentence)\n",
    "  token_list.extend(words)\n",
    "  tagged_words = nltk.pos_tag(words)\n",
    "  named_entities = nltk.ne_chunk(tagged_words)\n",
    "\n",
    "print(token_list)\n",
    "print ('\\nLength of word_list:', len(token_list))"
   ]
  },
  {
   "cell_type": "markdown",
   "metadata": {
    "id": "hmVcmxNoCIQz"
   },
   "source": [
    "Another way to tokenize a piece of text using NLTK is to use the split() method as shown below."
   ]
  },
  {
   "cell_type": "code",
   "execution_count": 5,
   "metadata": {
    "colab": {
     "base_uri": "https://localhost:8080/"
    },
    "id": "zzxM_dzpq2Iw",
    "outputId": "2744bb18-ef9c-4c17-b1b1-2f05db72e22e"
   },
   "outputs": [
    {
     "name": "stdout",
     "output_type": "stream",
     "text": [
      "[\"['In\", '2003,', 'word', 'n-gram', 'model,', 'at', 'the', 'time', 'the', 'best', 'statistical', 'algorithm,', 'was', 'overperformed', 'by', 'a', 'multi-layer', 'perceptron', '(with', 'a', 'single', 'hidden', 'layer', 'and', 'context', 'length', 'of', 'several', 'words', 'trained', 'on', 'up', 'to', '14', 'million', 'of', 'words', 'with', 'a', 'CPU', 'cluster', 'in', 'language', 'modelling)', 'by', 'Yoshua', 'Bengio', 'with', 'co-authors.[8]\\\\nIn', '2010,', 'Tomáš', 'Mikolov', '(then', 'a', 'PhD', 'student', 'at', 'Brno', 'University', 'of', 'Technology)', 'with', 'co-authors', 'applied', 'a', 'simple', 'recurrent', 'neural', 'network', 'with', 'a', 'single', 'hidden', 'layer', 'to', 'language', 'modelling,[9]', 'and', 'in', 'the', 'following', 'years', 'he', 'went', 'on', 'to', 'develop', 'Word2vec.\\\\nIn', 'the', '2010s,', 'representation', 'learning', 'and', 'deep', 'neural', 'network-style', '(featuring', 'many', 'hidden', 'layers)', 'machine', 'learning', 'methods', 'became', 'widespread', 'in', 'natural', 'language', 'processing.\\\\nThat', 'popularity', 'was', 'due', 'partly', 'to', 'a', 'flurry', 'of', 'results', 'showing', 'that', 'such', 'techniques[10][11]', 'can', 'achieve', 'state-of-the-art', 'results', 'in', 'many', 'natural', 'language', 'tasks,', 'e.g.,', 'in', 'language', 'modeling[12]', 'and', 'parsing.[13][14]\\\\nThis', 'is', 'increasingly', 'important', 'in', 'medicine', 'and', 'healthcare,', 'where', 'NLP', 'helps', 'analyze', 'notes', 'and', 'text', 'in', 'electronic', 'health', 'records', 'that', 'would', 'otherwise', 'be', 'inaccessible', 'for', 'study', 'when', 'seeking', 'to', 'improve', 'care[15]', 'or', 'protect', 'patient', \"privacy.[16]']\"]\n",
      "\n",
      "Length of word_list: 171\n"
     ]
    }
   ],
   "source": [
    "word_list = corpus.split()\n",
    "print(word_list)\n",
    "print ('\\nLength of word_list:', len(word_list))"
   ]
  },
  {
   "cell_type": "markdown",
   "metadata": {
    "id": "UBslCXNHCTs6"
   },
   "source": [
    "What's the difference between tokens obtained through word_tokenize() method and through split() method?\n",
    "\n",
    "Next, we filter the tokens and keep only those that contains alphabets."
   ]
  },
  {
   "cell_type": "code",
   "execution_count": 6,
   "metadata": {
    "colab": {
     "base_uri": "https://localhost:8080/"
    },
    "id": "7qqLc00Zzd5I",
    "outputId": "fb863029-1807-4fe1-b1b8-7ef538ce9d13"
   },
   "outputs": [
    {
     "name": "stdout",
     "output_type": "stream",
     "text": [
      "['word', 'at', 'the', 'time', 'the', 'best', 'statistical', 'was', 'overperformed', 'by', 'a', 'perceptron', 'a', 'single', 'hidden', 'layer', 'and', 'context', 'length', 'of', 'several', 'words', 'trained', 'on', 'up', 'to', 'million', 'of', 'words', 'with', 'a', 'CPU', 'cluster', 'in', 'language', 'by', 'Yoshua', 'Bengio', 'with', 'Tomáš', 'Mikolov', 'a', 'PhD', 'student', 'at', 'Brno', 'University', 'of', 'with', 'applied', 'a', 'simple', 'recurrent', 'neural', 'network', 'with', 'a', 'single', 'hidden', 'layer', 'to', 'language', 'and', 'in', 'the', 'following', 'years', 'he', 'went', 'on', 'to', 'develop', 'the', 'representation', 'learning', 'and', 'deep', 'neural', 'many', 'hidden', 'machine', 'learning', 'methods', 'became', 'widespread', 'in', 'natural', 'language', 'popularity', 'was', 'due', 'partly', 'to', 'a', 'flurry', 'of', 'results', 'showing', 'that', 'such', 'can', 'achieve', 'results', 'in', 'many', 'natural', 'language', 'in', 'language', 'and', 'is', 'increasingly', 'important', 'in', 'medicine', 'and', 'where', 'NLP', 'helps', 'analyze', 'notes', 'and', 'text', 'in', 'electronic', 'health', 'records', 'that', 'would', 'otherwise', 'be', 'inaccessible', 'for', 'study', 'when', 'seeking', 'to', 'improve', 'or', 'protect', 'patient']\n",
      "\n",
      "Length of word_list: 141\n"
     ]
    }
   ],
   "source": [
    "alphabets_only = [word for word in word_list if word.isalpha()]\n",
    "print(alphabets_only)\n",
    "print ('\\nLength of word_list:', len(alphabets_only))"
   ]
  },
  {
   "cell_type": "markdown",
   "metadata": {
    "id": "CR29nqjbDUj0"
   },
   "source": [
    "**Text Normalisation** means to remove any capitalisation in the text and convert all tokens to lower case."
   ]
  },
  {
   "cell_type": "code",
   "execution_count": 7,
   "metadata": {
    "colab": {
     "base_uri": "https://localhost:8080/"
    },
    "id": "gBXX3g7l0LyI",
    "outputId": "b6721183-f5c0-46a7-84cd-2ceba79790b3"
   },
   "outputs": [
    {
     "name": "stdout",
     "output_type": "stream",
     "text": [
      "['word', 'at', 'the', 'time', 'the', 'best', 'statistical', 'was', 'overperformed', 'by', 'a', 'perceptron', 'a', 'single', 'hidden', 'layer', 'and', 'context', 'length', 'of', 'several', 'words', 'trained', 'on', 'up', 'to', 'million', 'of', 'words', 'with', 'a', 'cpu', 'cluster', 'in', 'language', 'by', 'yoshua', 'bengio', 'with', 'tomáš', 'mikolov', 'a', 'phd', 'student', 'at', 'brno', 'university', 'of', 'with', 'applied', 'a', 'simple', 'recurrent', 'neural', 'network', 'with', 'a', 'single', 'hidden', 'layer', 'to', 'language', 'and', 'in', 'the', 'following', 'years', 'he', 'went', 'on', 'to', 'develop', 'the', 'representation', 'learning', 'and', 'deep', 'neural', 'many', 'hidden', 'machine', 'learning', 'methods', 'became', 'widespread', 'in', 'natural', 'language', 'popularity', 'was', 'due', 'partly', 'to', 'a', 'flurry', 'of', 'results', 'showing', 'that', 'such', 'can', 'achieve', 'results', 'in', 'many', 'natural', 'language', 'in', 'language', 'and', 'is', 'increasingly', 'important', 'in', 'medicine', 'and', 'where', 'nlp', 'helps', 'analyze', 'notes', 'and', 'text', 'in', 'electronic', 'health', 'records', 'that', 'would', 'otherwise', 'be', 'inaccessible', 'for', 'study', 'when', 'seeking', 'to', 'improve', 'or', 'protect', 'patient']\n",
      "\n",
      "Length of word_list: 141\n"
     ]
    }
   ],
   "source": [
    "lower_case = [word.lower() for word in alphabets_only]\n",
    "print(lower_case)\n",
    "print ('\\nLength of word_list:', len(lower_case))"
   ]
  },
  {
   "cell_type": "markdown",
   "metadata": {
    "id": "p5pYZcPFDrKe"
   },
   "source": [
    "Stopword removal means to remove those words from the remaining tokens that appear frequently in English language but contribute very little to the overall meaning of the text. It is important to note here that stopword removal should not be applied to every NLP task since in some application these stopwords are important as well."
   ]
  },
  {
   "cell_type": "code",
   "execution_count": 8,
   "metadata": {
    "colab": {
     "base_uri": "https://localhost:8080/"
    },
    "id": "XW0Qe6nL0iQo",
    "outputId": "33c8e7af-db5a-4abd-e3df-6983c872addc"
   },
   "outputs": [
    {
     "name": "stdout",
     "output_type": "stream",
     "text": [
      "{'by', \"you're\", 'if', 'yours', 'now', 'all', 'your', 'an', 'as', 'shouldn', 'those', 'that', \"needn't\", 'you', \"don't\", 'wouldn', 'herself', 're', \"mightn't\", \"hasn't\", 'yourselves', 'here', 'myself', 'this', 'any', 'don', 'should', 'then', 'before', 'ourselves', 'he', 'were', 'being', 'where', 'haven', 'having', 'just', 'am', 'himself', 'down', 'didn', 'until', 'weren', 'below', 'won', \"hadn't\", 'while', 'above', 'been', 'them', 'll', \"wouldn't\", 'are', \"couldn't\", 'yourself', 'or', 'did', 'had', 'of', 'ain', 'nor', 'was', 'what', \"doesn't\", 'the', 'other', 'ours', 'each', \"mustn't\", \"won't\", 'there', 'too', 'is', 'wasn', 'him', \"weren't\", 'my', 'her', \"you'll\", 'she', 'have', 'it', 'y', 'themselves', 'no', 'which', \"isn't\", 'most', 'because', 've', 'both', 'than', 'these', 'can', 'to', \"you'd\", \"it's\", 'against', 'me', 'hadn', \"didn't\", 'doing', 'will', 'with', 'itself', 'same', 'but', 'for', 'be', 'hers', 'who', 'at', 'a', 't', \"shouldn't\", \"aren't\", 'on', 'further', 'so', 'ma', 'o', \"you've\", 'out', 'hasn', \"that'll\", 'theirs', 'their', 'from', 'does', 'needn', 'into', \"she's\", 'd', 'shan', 'off', 'when', 'doesn', 'mustn', 'aren', 'they', 'its', 'm', 'after', 'few', 'up', 'in', \"haven't\", 'under', 'mightn', \"shan't\", 'our', 'through', 'more', 'once', 'isn', 'has', 'over', 'own', 'i', 'and', 'such', 'not', \"should've\", 'during', 'between', 'his', 'about', 'couldn', 'why', 'do', 'whom', 'again', 'only', 'very', \"wasn't\", 's', 'we', 'some', 'how'}\n",
      "\n",
      "Length of word_list: 179 \n",
      "\n",
      "['word', 'time', 'best', 'statistical', 'overperformed', 'perceptron', 'single', 'hidden', 'layer', 'context', 'length', 'several', 'words', 'trained', 'million', 'words', 'cpu', 'cluster', 'language', 'yoshua', 'bengio', 'tomáš', 'mikolov', 'phd', 'student', 'brno', 'university', 'applied', 'simple', 'recurrent', 'neural', 'network', 'single', 'hidden', 'layer', 'language', 'following', 'years', 'went', 'develop', 'representation', 'learning', 'deep', 'neural', 'many', 'hidden', 'machine', 'learning', 'methods', 'became', 'widespread', 'natural', 'language', 'popularity', 'due', 'partly', 'flurry', 'results', 'showing', 'achieve', 'results', 'many', 'natural', 'language', 'language', 'increasingly', 'important', 'medicine', 'nlp', 'helps', 'analyze', 'notes', 'text', 'electronic', 'health', 'records', 'would', 'otherwise', 'inaccessible', 'study', 'seeking', 'improve', 'protect', 'patient']\n",
      "\n",
      "Length of word_list: 84\n"
     ]
    }
   ],
   "source": [
    "from nltk.corpus import stopwords\n",
    "\n",
    "stopwords_nltk = set(stopwords.words('english'))\n",
    "print(stopwords_nltk)\n",
    "print ('\\nLength of word_list:', len(stopwords_nltk), '\\n')\n",
    "\n",
    "cleaned_words = [word for word in lower_case if word not in stopwords_nltk]\n",
    "print(cleaned_words)\n",
    "print ('\\nLength of word_list:', len(cleaned_words))"
   ]
  },
  {
   "cell_type": "markdown",
   "metadata": {
    "id": "i727LxfAP5qU"
   },
   "source": [
    "# Text preprocessing using tensorflow"
   ]
  },
  {
   "cell_type": "raw",
   "metadata": {
    "id": "IfQtkxeIENaK"
   },
   "source": [
    "This concludes the first part of this lab which deals with preprocessing raw text using NLTK. Now Let's use tensorfolow to perform similar preprocessing (note the difference in the implementation of both libraries) and build a complete example of sentiment analysis."
   ]
  },
  {
   "cell_type": "code",
   "execution_count": 9,
   "metadata": {
    "colab": {
     "base_uri": "https://localhost:8080/"
    },
    "id": "6mQ25HF5r6ib",
    "outputId": "5bb2fd34-7121-4d8c-a6bf-a0ae8e9fe0fd"
   },
   "outputs": [
    {
     "name": "stdout",
     "output_type": "stream",
     "text": [
      "{'love': 1, 'my': 2, 'i': 3, 'dog': 4, 'cat': 5, 'you': 6}\n"
     ]
    }
   ],
   "source": [
    "from tensorflow.keras.preprocessing.text import Tokenizer\n",
    "\n",
    "sentences = [\n",
    "    'i love my dog',\n",
    "    'I, love my cat',\n",
    "    'You love my dog!'\n",
    "]\n",
    "\n",
    "tokenizer = Tokenizer(num_words = 100)\n",
    "tokenizer.fit_on_texts(sentences)\n",
    "word_index = tokenizer.word_index\n",
    "print(word_index)"
   ]
  },
  {
   "cell_type": "code",
   "execution_count": 10,
   "metadata": {
    "colab": {
     "base_uri": "https://localhost:8080/"
    },
    "id": "EglaZfzNwtns",
    "outputId": "87cd374d-e945-4836-db9f-722142ebd2ad"
   },
   "outputs": [
    {
     "name": "stdout",
     "output_type": "stream",
     "text": [
      "\n",
      "Word Index =  {'<OOV>': 1, 'my': 2, 'love': 3, 'dog': 4, 'i': 5, 'you': 6, 'cat': 7, 'do': 8, 'think': 9, 'is': 10, 'amazing': 11}\n",
      "\n",
      "Sequences =  [[5, 3, 2, 4], [5, 3, 2, 7], [6, 3, 2, 4], [8, 6, 9, 2, 4, 10, 11]]\n",
      "\n",
      "Padded Sequences:\n",
      "[[ 0  5  3  2  4]\n",
      " [ 0  5  3  2  7]\n",
      " [ 0  6  3  2  4]\n",
      " [ 9  2  4 10 11]]\n"
     ]
    }
   ],
   "source": [
    "import json\n",
    "import tensorflow as tf\n",
    "from tensorflow import keras\n",
    "from tensorflow.keras.preprocessing.text import Tokenizer\n",
    "from tensorflow.keras.preprocessing.sequence import pad_sequences\n",
    "\n",
    "sentences = [\n",
    "    'I love my dog',\n",
    "    'I love my cat',\n",
    "    'You love my dog!',\n",
    "    'Do you think my dog is amazing?'\n",
    "]\n",
    "\n",
    "tokenizer = Tokenizer(num_words = 100, oov_token=\"<OOV>\")\n",
    "tokenizer.fit_on_texts(sentences)\n",
    "word_index = tokenizer.word_index\n",
    "\n",
    "sequences = tokenizer.texts_to_sequences(sentences)\n",
    "\n",
    "padded = pad_sequences(sequences, maxlen=5)\n",
    "print(\"\\nWord Index = \" , word_index)\n",
    "print(\"\\nSequences = \" , sequences)\n",
    "print(\"\\nPadded Sequences:\")\n",
    "print(padded)"
   ]
  },
  {
   "cell_type": "code",
   "execution_count": 11,
   "metadata": {
    "id": "1PTErLmdvBFH"
   },
   "outputs": [],
   "source": [
    "vocab_size = 10000\n",
    "embedding_dim = 16\n",
    "max_length = 100\n",
    "trunc_type='post'\n",
    "padding_type='post'\n",
    "oov_tok = \"<OOV>\"\n",
    "training_size = 20000"
   ]
  },
  {
   "cell_type": "code",
   "execution_count": 12,
   "metadata": {
    "colab": {
     "base_uri": "https://localhost:8080/"
    },
    "id": "VtEnSsGhw7Fd",
    "outputId": "095cccd7-381b-4497-d987-e5821cb29352"
   },
   "outputs": [
    {
     "name": "stdout",
     "output_type": "stream",
     "text": [
      "--2023-08-22 09:54:15--  https://storage.googleapis.com/learning-datasets/sarcasm.json\n",
      "Resolving storage.googleapis.com (storage.googleapis.com)... 74.125.31.128, 74.125.134.128, 74.125.139.128, ...\n",
      "Connecting to storage.googleapis.com (storage.googleapis.com)|74.125.31.128|:443... connected.\n",
      "HTTP request sent, awaiting response... 200 OK\n",
      "Length: 5643545 (5.4M) [application/json]\n",
      "Saving to: ‘/tmp/sarcasm.json’\n",
      "\n",
      "\r",
      "/tmp/sarcasm.json     0%[                    ]       0  --.-KB/s               \r",
      "/tmp/sarcasm.json   100%[===================>]   5.38M  --.-KB/s    in 0.03s   \n",
      "\n",
      "2023-08-22 09:54:15 (166 MB/s) - ‘/tmp/sarcasm.json’ saved [5643545/5643545]\n",
      "\n"
     ]
    }
   ],
   "source": [
    "!wget --no-check-certificate \\\n",
    "    https://storage.googleapis.com/learning-datasets/sarcasm.json \\\n",
    "    -O /tmp/sarcasm.json"
   ]
  },
  {
   "cell_type": "code",
   "execution_count": 13,
   "metadata": {
    "id": "It80kX2I0Zin"
   },
   "outputs": [],
   "source": [
    "with open(\"/tmp/sarcasm.json\", 'r') as f:\n",
    "    datastore = json.load(f)\n",
    "\n",
    "sentences = []\n",
    "labels = []\n",
    "\n",
    "for item in datastore:\n",
    "    sentences.append(item['headline'])\n",
    "    labels.append(item['is_sarcastic'])"
   ]
  },
  {
   "cell_type": "code",
   "execution_count": 14,
   "metadata": {
    "id": "hPqjSK960d8S"
   },
   "outputs": [],
   "source": [
    "training_sentences = sentences[0:training_size]\n",
    "testing_sentences = sentences[training_size:]\n",
    "training_labels = labels[0:training_size]\n",
    "testing_labels = labels[training_size:]"
   ]
  },
  {
   "cell_type": "code",
   "execution_count": 15,
   "metadata": {
    "id": "jUtxvaJH0hec"
   },
   "outputs": [],
   "source": [
    "tokenizer = Tokenizer(num_words=vocab_size, oov_token=oov_tok)\n",
    "tokenizer.fit_on_texts(training_sentences)\n",
    "\n",
    "word_index = tokenizer.word_index\n",
    "\n",
    "training_sequences = tokenizer.texts_to_sequences(training_sentences)\n",
    "training_padded = pad_sequences(training_sequences, maxlen=max_length, padding=padding_type, truncating=trunc_type)\n",
    "\n",
    "testing_sequences = tokenizer.texts_to_sequences(testing_sentences)\n",
    "testing_padded = pad_sequences(testing_sequences, maxlen=max_length, padding=padding_type, truncating=trunc_type)"
   ]
  },
  {
   "cell_type": "code",
   "execution_count": 16,
   "metadata": {
    "id": "JuXb3H750jXI"
   },
   "outputs": [],
   "source": [
    "# Need this block to get it to work with TensorFlow 2.x\n",
    "import numpy as np\n",
    "training_padded = np.array(training_padded)\n",
    "training_labels = np.array(training_labels)\n",
    "testing_padded = np.array(testing_padded)\n",
    "testing_labels = np.array(testing_labels)"
   ]
  },
  {
   "cell_type": "code",
   "execution_count": 17,
   "metadata": {
    "colab": {
     "base_uri": "https://localhost:8080/"
    },
    "id": "JIFR8YFm0ng7",
    "outputId": "80212f3d-f10f-4d2a-ce6f-51164eee3075"
   },
   "outputs": [
    {
     "name": "stdout",
     "output_type": "stream",
     "text": [
      "Model: \"sequential\"\n",
      "_________________________________________________________________\n",
      " Layer (type)                Output Shape              Param #   \n",
      "=================================================================\n",
      " embedding (Embedding)       (None, 100, 16)           160000    \n",
      "                                                                 \n",
      " global_average_pooling1d (G  (None, 16)               0         \n",
      " lobalAveragePooling1D)                                          \n",
      "                                                                 \n",
      " dense (Dense)               (None, 24)                408       \n",
      "                                                                 \n",
      " dense_1 (Dense)             (None, 1)                 25        \n",
      "                                                                 \n",
      "=================================================================\n",
      "Total params: 160,433\n",
      "Trainable params: 160,433\n",
      "Non-trainable params: 0\n",
      "_________________________________________________________________\n"
     ]
    }
   ],
   "source": [
    "model = tf.keras.Sequential([\n",
    "    tf.keras.layers.Embedding(vocab_size, embedding_dim, input_length=max_length),\n",
    "    tf.keras.layers.GlobalAveragePooling1D(),\n",
    "    tf.keras.layers.Dense(24, activation='relu'),\n",
    "    tf.keras.layers.Dense(1, activation='sigmoid')\n",
    "])\n",
    "model.compile(loss='binary_crossentropy',optimizer='adam',metrics=['accuracy'])\n",
    "model.summary()"
   ]
  },
  {
   "cell_type": "code",
   "execution_count": 18,
   "metadata": {
    "colab": {
     "base_uri": "https://localhost:8080/"
    },
    "id": "wEzL76dc0q06",
    "outputId": "49299238-97bc-460e-ca5f-ff489e064794"
   },
   "outputs": [
    {
     "name": "stdout",
     "output_type": "stream",
     "text": [
      "Epoch 1/30\n",
      "625/625 - 5s - loss: 0.6565 - accuracy: 0.6012 - val_loss: 0.5534 - val_accuracy: 0.7369 - 5s/epoch - 8ms/step\n",
      "Epoch 2/30\n",
      "625/625 - 2s - loss: 0.4178 - accuracy: 0.8372 - val_loss: 0.3823 - val_accuracy: 0.8408 - 2s/epoch - 4ms/step\n",
      "Epoch 3/30\n",
      "625/625 - 2s - loss: 0.3074 - accuracy: 0.8784 - val_loss: 0.3505 - val_accuracy: 0.8539 - 2s/epoch - 4ms/step\n",
      "Epoch 4/30\n",
      "625/625 - 2s - loss: 0.2567 - accuracy: 0.9004 - val_loss: 0.3522 - val_accuracy: 0.8430 - 2s/epoch - 4ms/step\n",
      "Epoch 5/30\n",
      "625/625 - 3s - loss: 0.2197 - accuracy: 0.9144 - val_loss: 0.3445 - val_accuracy: 0.8578 - 3s/epoch - 5ms/step\n",
      "Epoch 6/30\n",
      "625/625 - 3s - loss: 0.1916 - accuracy: 0.9276 - val_loss: 0.3537 - val_accuracy: 0.8563 - 3s/epoch - 4ms/step\n",
      "Epoch 7/30\n",
      "625/625 - 3s - loss: 0.1709 - accuracy: 0.9362 - val_loss: 0.3784 - val_accuracy: 0.8468 - 3s/epoch - 4ms/step\n",
      "Epoch 8/30\n",
      "625/625 - 2s - loss: 0.1528 - accuracy: 0.9433 - val_loss: 0.3868 - val_accuracy: 0.8492 - 2s/epoch - 4ms/step\n",
      "Epoch 9/30\n",
      "625/625 - 2s - loss: 0.1363 - accuracy: 0.9520 - val_loss: 0.4067 - val_accuracy: 0.8478 - 2s/epoch - 4ms/step\n",
      "Epoch 10/30\n",
      "625/625 - 3s - loss: 0.1257 - accuracy: 0.9543 - val_loss: 0.4202 - val_accuracy: 0.8509 - 3s/epoch - 5ms/step\n",
      "Epoch 11/30\n",
      "625/625 - 2s - loss: 0.1121 - accuracy: 0.9610 - val_loss: 0.4478 - val_accuracy: 0.8462 - 2s/epoch - 4ms/step\n",
      "Epoch 12/30\n",
      "625/625 - 3s - loss: 0.1031 - accuracy: 0.9645 - val_loss: 0.4707 - val_accuracy: 0.8448 - 3s/epoch - 4ms/step\n",
      "Epoch 13/30\n",
      "625/625 - 2s - loss: 0.0939 - accuracy: 0.9689 - val_loss: 0.4958 - val_accuracy: 0.8438 - 2s/epoch - 4ms/step\n",
      "Epoch 14/30\n",
      "625/625 - 2s - loss: 0.0867 - accuracy: 0.9707 - val_loss: 0.5439 - val_accuracy: 0.8314 - 2s/epoch - 4ms/step\n",
      "Epoch 15/30\n",
      "625/625 - 3s - loss: 0.0773 - accuracy: 0.9746 - val_loss: 0.5571 - val_accuracy: 0.8371 - 3s/epoch - 5ms/step\n",
      "Epoch 16/30\n",
      "625/625 - 3s - loss: 0.0724 - accuracy: 0.9763 - val_loss: 0.5969 - val_accuracy: 0.8326 - 3s/epoch - 4ms/step\n",
      "Epoch 17/30\n",
      "625/625 - 2s - loss: 0.0658 - accuracy: 0.9783 - val_loss: 0.6313 - val_accuracy: 0.8302 - 2s/epoch - 4ms/step\n",
      "Epoch 18/30\n",
      "625/625 - 3s - loss: 0.0599 - accuracy: 0.9809 - val_loss: 0.6808 - val_accuracy: 0.8277 - 3s/epoch - 5ms/step\n",
      "Epoch 19/30\n",
      "625/625 - 3s - loss: 0.0555 - accuracy: 0.9828 - val_loss: 0.6953 - val_accuracy: 0.8267 - 3s/epoch - 5ms/step\n",
      "Epoch 20/30\n",
      "625/625 - 3s - loss: 0.0519 - accuracy: 0.9832 - val_loss: 0.8236 - val_accuracy: 0.8168 - 3s/epoch - 4ms/step\n",
      "Epoch 21/30\n",
      "625/625 - 2s - loss: 0.0464 - accuracy: 0.9860 - val_loss: 0.7652 - val_accuracy: 0.8231 - 2s/epoch - 4ms/step\n",
      "Epoch 22/30\n",
      "625/625 - 3s - loss: 0.0433 - accuracy: 0.9871 - val_loss: 0.8192 - val_accuracy: 0.8217 - 3s/epoch - 4ms/step\n",
      "Epoch 23/30\n",
      "625/625 - 2s - loss: 0.0402 - accuracy: 0.9877 - val_loss: 0.8357 - val_accuracy: 0.8208 - 2s/epoch - 4ms/step\n",
      "Epoch 24/30\n",
      "625/625 - 3s - loss: 0.0384 - accuracy: 0.9886 - val_loss: 0.8710 - val_accuracy: 0.8210 - 3s/epoch - 5ms/step\n",
      "Epoch 25/30\n",
      "625/625 - 2s - loss: 0.0356 - accuracy: 0.9890 - val_loss: 0.9692 - val_accuracy: 0.8149 - 2s/epoch - 4ms/step\n",
      "Epoch 26/30\n",
      "625/625 - 2s - loss: 0.0333 - accuracy: 0.9910 - val_loss: 0.9410 - val_accuracy: 0.8156 - 2s/epoch - 4ms/step\n",
      "Epoch 27/30\n",
      "625/625 - 2s - loss: 0.0300 - accuracy: 0.9904 - val_loss: 0.9908 - val_accuracy: 0.8165 - 2s/epoch - 4ms/step\n",
      "Epoch 28/30\n",
      "625/625 - 3s - loss: 0.0266 - accuracy: 0.9926 - val_loss: 1.0398 - val_accuracy: 0.8152 - 3s/epoch - 6ms/step\n",
      "Epoch 29/30\n",
      "625/625 - 3s - loss: 0.0262 - accuracy: 0.9920 - val_loss: 1.1259 - val_accuracy: 0.8119 - 3s/epoch - 5ms/step\n",
      "Epoch 30/30\n",
      "625/625 - 3s - loss: 0.0226 - accuracy: 0.9934 - val_loss: 1.1170 - val_accuracy: 0.8128 - 3s/epoch - 4ms/step\n"
     ]
    }
   ],
   "source": [
    "num_epochs = 30\n",
    "history = model.fit(training_padded, training_labels, epochs=num_epochs, validation_data=(testing_padded, testing_labels), verbose=2)"
   ]
  },
  {
   "cell_type": "code",
   "execution_count": 19,
   "metadata": {
    "colab": {
     "base_uri": "https://localhost:8080/",
     "height": 881
    },
    "id": "--qpISlW0t-z",
    "outputId": "f10a3876-2815-40cc-8613-21f18e53d969"
   },
   "outputs": [
    {
     "data": {
      "image/png": "[encoded data removed]",
      "text/plain": [
       "<Figure size 640x480 with 1 Axes>"
      ]
     },
     "metadata": {},
     "output_type": "display_data"
    },
    {
     "data": {
      "image/png": "[encoded data removed]",
      "text/plain": [
       "<Figure size 640x480 with 1 Axes>"
      ]
     },
     "metadata": {},
     "output_type": "display_data"
    }
   ],
   "source": [
    "import matplotlib.pyplot as plt\n",
    "\n",
    "def plot_graphs(history, string):\n",
    "  plt.plot(history.history[string])\n",
    "  plt.plot(history.history['val_'+string])\n",
    "  plt.xlabel(\"Epochs\")\n",
    "  plt.ylabel(string)\n",
    "  plt.legend([string, 'val_'+string])\n",
    "  plt.show()\n",
    "\n",
    "plot_graphs(history, \"accuracy\")\n",
    "plot_graphs(history, \"loss\")"
   ]
  },
  {
   "cell_type": "code",
   "execution_count": null,
   "metadata": {
    "colab": {
     "background_save": true
    },
    "id": "FECUG7ZC0zFA",
    "outputId": "b021a038-dce0-46e8-f1da-ff0c92055f37"
   },
   "outputs": [
    {
     "name": "stdout",
     "output_type": "stream",
     "text": [
      "1/1 [==============================] - 0s 100ms/step\n",
      "[[9.182132e-01]\n",
      " [5.686376e-06]]\n"
     ]
    }
   ],
   "source": [
    "sentence = [\"granny starting to fear spiders in the garden might be real\", \"game of thrones season finale showing this sunday night\"]\n",
    "sequences = tokenizer.texts_to_sequences(sentence)\n",
    "padded = pad_sequences(sequences, maxlen=max_length, padding=padding_type, truncating=trunc_type)\n",
    "print(model.predict(padded))"
   ]
  }
 ],
 "metadata": {
  "colab": {
   "provenance": []
  },
  "kernelspec": {
   "display_name": "Python 3",
   "language": "python",
   "name": "python3"
  },
  "language_info": {
   "codemirror_mode": {
    "name": "ipython",
    "version": 3
   },
   "file_extension": ".py",
   "mimetype": "text/x-python",
   "name": "python",
   "nbconvert_exporter": "python",
   "pygments_lexer": "ipython3",
   "version": "3.8.8"
  }
 },
 "nbformat": 4,
 "nbformat_minor": 1
}
